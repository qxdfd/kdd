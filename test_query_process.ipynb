{
 "cells": [
  {
   "cell_type": "code",
   "execution_count": 1,
   "metadata": {
    "collapsed": true
   },
   "outputs": [],
   "source": [
    "import pandas as pd\n",
    "import numpy as np\n",
    "import json"
   ]
  },
  {
   "cell_type": "code",
   "execution_count": 2,
   "metadata": {
    "collapsed": true
   },
   "outputs": [],
   "source": [
    "base = '../../data/'"
   ]
  },
  {
   "cell_type": "code",
   "execution_count": 4,
   "metadata": {},
   "outputs": [
    {
     "data": {
      "text/html": [
       "<div>\n",
       "<style scoped>\n",
       "    .dataframe tbody tr th:only-of-type {\n",
       "        vertical-align: middle;\n",
       "    }\n",
       "\n",
       "    .dataframe tbody tr th {\n",
       "        vertical-align: top;\n",
       "    }\n",
       "\n",
       "    .dataframe thead th {\n",
       "        text-align: right;\n",
       "    }\n",
       "</style>\n",
       "<table border=\"1\" class=\"dataframe\">\n",
       "  <thead>\n",
       "    <tr style=\"text-align: right;\">\n",
       "      <th></th>\n",
       "      <th>sid</th>\n",
       "      <th>pid</th>\n",
       "      <th>req_time</th>\n",
       "      <th>o</th>\n",
       "      <th>d</th>\n",
       "      <th>o_lon</th>\n",
       "      <th>o_lat</th>\n",
       "      <th>d_lon</th>\n",
       "      <th>d_lat</th>\n",
       "      <th>o_i</th>\n",
       "      <th>o_j</th>\n",
       "      <th>d_i</th>\n",
       "      <th>d_j</th>\n",
       "    </tr>\n",
       "  </thead>\n",
       "  <tbody>\n",
       "    <tr>\n",
       "      <th>0</th>\n",
       "      <td>1126541</td>\n",
       "      <td>178395.0</td>\n",
       "      <td>2018-12-05 14:51:43</td>\n",
       "      <td>116.41,39.92</td>\n",
       "      <td>116.46,39.95</td>\n",
       "      <td>116.41</td>\n",
       "      <td>39.92</td>\n",
       "      <td>116.46</td>\n",
       "      <td>39.95</td>\n",
       "      <td>23.0</td>\n",
       "      <td>11.0</td>\n",
       "      <td>25.0</td>\n",
       "      <td>12.0</td>\n",
       "    </tr>\n",
       "    <tr>\n",
       "      <th>1</th>\n",
       "      <td>453685</td>\n",
       "      <td>179178.0</td>\n",
       "      <td>2018-12-01 12:50:33</td>\n",
       "      <td>116.39,39.90</td>\n",
       "      <td>116.41,39.91</td>\n",
       "      <td>116.39</td>\n",
       "      <td>39.90</td>\n",
       "      <td>116.41</td>\n",
       "      <td>39.91</td>\n",
       "      <td>23.0</td>\n",
       "      <td>10.0</td>\n",
       "      <td>24.0</td>\n",
       "      <td>11.0</td>\n",
       "    </tr>\n",
       "    <tr>\n",
       "      <th>2</th>\n",
       "      <td>2066073</td>\n",
       "      <td>184748.0</td>\n",
       "      <td>2018-12-07 10:17:35</td>\n",
       "      <td>116.37,39.71</td>\n",
       "      <td>116.31,39.89</td>\n",
       "      <td>116.37</td>\n",
       "      <td>39.71</td>\n",
       "      <td>116.31</td>\n",
       "      <td>39.89</td>\n",
       "      <td>22.0</td>\n",
       "      <td>6.0</td>\n",
       "      <td>21.0</td>\n",
       "      <td>10.0</td>\n",
       "    </tr>\n",
       "    <tr>\n",
       "      <th>3</th>\n",
       "      <td>452746</td>\n",
       "      <td>162795.0</td>\n",
       "      <td>2018-12-01 07:52:44</td>\n",
       "      <td>116.33,39.97</td>\n",
       "      <td>116.31,39.98</td>\n",
       "      <td>116.33</td>\n",
       "      <td>39.97</td>\n",
       "      <td>116.31</td>\n",
       "      <td>39.98</td>\n",
       "      <td>21.0</td>\n",
       "      <td>12.0</td>\n",
       "      <td>21.0</td>\n",
       "      <td>12.0</td>\n",
       "    </tr>\n",
       "    <tr>\n",
       "      <th>4</th>\n",
       "      <td>1431672</td>\n",
       "      <td>116384.0</td>\n",
       "      <td>2018-12-06 10:36:30</td>\n",
       "      <td>116.51,39.68</td>\n",
       "      <td>116.51,39.68</td>\n",
       "      <td>116.51</td>\n",
       "      <td>39.68</td>\n",
       "      <td>116.51</td>\n",
       "      <td>39.68</td>\n",
       "      <td>26.0</td>\n",
       "      <td>5.0</td>\n",
       "      <td>26.0</td>\n",
       "      <td>5.0</td>\n",
       "    </tr>\n",
       "  </tbody>\n",
       "</table>\n",
       "</div>"
      ],
      "text/plain": [
       "       sid       pid             req_time             o             d   o_lon  \\\n",
       "0  1126541  178395.0  2018-12-05 14:51:43  116.41,39.92  116.46,39.95  116.41   \n",
       "1   453685  179178.0  2018-12-01 12:50:33  116.39,39.90  116.41,39.91  116.39   \n",
       "2  2066073  184748.0  2018-12-07 10:17:35  116.37,39.71  116.31,39.89  116.37   \n",
       "3   452746  162795.0  2018-12-01 07:52:44  116.33,39.97  116.31,39.98  116.33   \n",
       "4  1431672  116384.0  2018-12-06 10:36:30  116.51,39.68  116.51,39.68  116.51   \n",
       "\n",
       "   o_lat   d_lon  d_lat   o_i   o_j   d_i   d_j  \n",
       "0  39.92  116.46  39.95  23.0  11.0  25.0  12.0  \n",
       "1  39.90  116.41  39.91  23.0  10.0  24.0  11.0  \n",
       "2  39.71  116.31  39.89  22.0   6.0  21.0  10.0  \n",
       "3  39.97  116.31  39.98  21.0  12.0  21.0  12.0  \n",
       "4  39.68  116.51  39.68  26.0   5.0  26.0   5.0  "
      ]
     },
     "execution_count": 4,
     "metadata": {},
     "output_type": "execute_result"
    }
   ],
   "source": [
    "test = pd.read_csv(base+'test_queries.csv')\n",
    "test['o_lon'] = test.o.apply(lambda x: float(x.split(',')[0]))\n",
    "test['o_lat'] = test.o.apply(lambda x: float(x.split(',')[1]))\n",
    "test['d_lon'] = test.d.apply(lambda x: float(x.split(',')[0]))\n",
    "test['d_lat'] = test.d.apply(lambda x: float(x.split(',')[1]))\n",
    "\n",
    "o_lon_min = 115.47\n",
    "o_lat_min = 39.46\n",
    "d_lon_min = 115.44\n",
    "d_lat_min = 39.46\n",
    "\n",
    "test['o_i'] = (test['o_lon'] - o_lon_min)//0.04\n",
    "test['o_j'] = (test['o_lat'] - o_lat_min)//0.04\n",
    "test['d_i'] = (test['d_lon'] - d_lon_min)//0.04\n",
    "test['d_j'] = (test['d_lat'] - d_lat_min)//0.04\n",
    "\n",
    "test.head()"
   ]
  },
  {
   "cell_type": "code",
   "execution_count": 5,
   "metadata": {
    "collapsed": true
   },
   "outputs": [],
   "source": [
    "test.to_csv('../../data/processed/test_od.csv', index=False)"
   ]
  },
  {
   "cell_type": "code",
   "execution_count": null,
   "metadata": {
    "collapsed": true
   },
   "outputs": [],
   "source": []
  }
 ],
 "metadata": {
  "kernelspec": {
   "display_name": "Python 3",
   "language": "python",
   "name": "python3"
  },
  "language_info": {
   "codemirror_mode": {
    "name": "ipython",
    "version": 3
   },
   "file_extension": ".py",
   "mimetype": "text/x-python",
   "name": "python",
   "nbconvert_exporter": "python",
   "pygments_lexer": "ipython3",
   "version": "3.6.7"
  }
 },
 "nbformat": 4,
 "nbformat_minor": 2
}
